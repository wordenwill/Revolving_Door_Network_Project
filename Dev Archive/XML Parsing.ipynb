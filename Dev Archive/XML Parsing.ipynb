{
 "cells": [
  {
   "cell_type": "code",
   "execution_count": 1,
   "metadata": {},
   "outputs": [],
   "source": [
    "import xml.etree.cElementTree as ET\n",
    "import pandas as pd\n",
    "import os"
   ]
  },
  {
   "cell_type": "code",
   "execution_count": 2,
   "metadata": {},
   "outputs": [],
   "source": [
    "d = [\"a\",\"b\",\"c\",\"d\",\"e\",\"f\",\"g\",\"h\",\"i\",\"j\",\"k\",\"l\",\"m\",\"n\",\"o\",\"p\",\"q\",\"r\",\"s\",\"t\",\"u\",\"v\",\"w\",\"x\",\"y\",\"z\"]"
   ]
  },
  {
   "cell_type": "code",
   "execution_count": 12,
   "metadata": {},
   "outputs": [],
   "source": [
    "df = pd.DataFrame()"
   ]
  },
  {
   "cell_type": "code",
   "execution_count": 67,
   "metadata": {},
   "outputs": [],
   "source": [
    "def parseXML_2(path):\n",
    "\n",
    "    for filename in os.listdir(path):\n",
    "        fullname = os.path.join(path, filename)\n",
    "        tree = ET.parse(fullname)\n",
    "\n",
    "        last_name_list = []\n",
    "        first_name_list = []\n",
    "        reg_desc_list = []\n",
    "\n",
    "\n",
    "        root = tree.getroot()\n",
    "\n",
    "        for e in root.iter('lobbyistLastName'):\n",
    "            last_name = e.text\n",
    "            last_name_list.append(last_name)\n",
    "\n",
    "        #df['LastName'] = last_name_list\n",
    "\n",
    "        for e in root.iter('lobbyistFirstName'):\n",
    "            first_name = e.text\n",
    "            first_name_list.append(first_name)\n",
    "        #df['FirstName'] = first_name_list\n",
    "        #df[\"lobbyist_name\"] = df[\"FirstName\"].map(str) +\" \" +df[\"LastName\"]\n",
    "        #del df['LastName']\n",
    "        #del df['FirstName']\n",
    "\n",
    "        for e in root.iter('coveredPosition'):\n",
    "            reg_desc = e.text\n",
    "            reg_desc_list.append(reg_desc)\n",
    "        #df['covered_position'] = reg_desc_list\n",
    "\n",
    "    print(last_name_list)"
   ]
  },
  {
   "cell_type": "code",
   "execution_count": 68,
   "metadata": {
    "scrolled": true
   },
   "outputs": [
    {
     "name": "stdout",
     "output_type": "stream",
     "text": [
      "['Tocco', '\\n      ', '\\n      ', '\\n      ', '\\n      ']\n"
     ]
    }
   ],
   "source": [
    "parseXML_2('C:/Users/willi/OneDrive/Documents/GitHub/Revolving_Door_Network_Project/2019_XML_Files/Test')"
   ]
  },
  {
   "cell_type": "code",
   "execution_count": 22,
   "metadata": {},
   "outputs": [],
   "source": [
    "for index, row in df.iterrows():\n",
    "    if not any(x in row['covered_position'] for x in d):\n",
    "        df.drop(index, inplace=True)"
   ]
  },
  {
   "cell_type": "code",
   "execution_count": 23,
   "metadata": {},
   "outputs": [
    {
     "data": {
      "text/html": [
       "<div>\n",
       "<style scoped>\n",
       "    .dataframe tbody tr th:only-of-type {\n",
       "        vertical-align: middle;\n",
       "    }\n",
       "\n",
       "    .dataframe tbody tr th {\n",
       "        vertical-align: top;\n",
       "    }\n",
       "\n",
       "    .dataframe thead th {\n",
       "        text-align: right;\n",
       "    }\n",
       "</style>\n",
       "<table border=\"1\" class=\"dataframe\">\n",
       "  <thead>\n",
       "    <tr style=\"text-align: right;\">\n",
       "      <th></th>\n",
       "      <th>lobbyist_name</th>\n",
       "      <th>covered_position</th>\n",
       "    </tr>\n",
       "  </thead>\n",
       "  <tbody>\n",
       "    <tr>\n",
       "      <th>0</th>\n",
       "      <td>Jessica Tocco</td>\n",
       "      <td>Confidential Assistant to Carlos Gutierrez, Se...</td>\n",
       "    </tr>\n",
       "  </tbody>\n",
       "</table>\n",
       "</div>"
      ],
      "text/plain": [
       "   lobbyist_name                                   covered_position\n",
       "0  Jessica Tocco  Confidential Assistant to Carlos Gutierrez, Se..."
      ]
     },
     "execution_count": 23,
     "metadata": {},
     "output_type": "execute_result"
    }
   ],
   "source": [
    "df"
   ]
  },
  {
   "cell_type": "code",
   "execution_count": null,
   "metadata": {},
   "outputs": [],
   "source": []
  }
 ],
 "metadata": {
  "kernelspec": {
   "display_name": "Python 3",
   "language": "python",
   "name": "python3"
  },
  "language_info": {
   "codemirror_mode": {
    "name": "ipython",
    "version": 3
   },
   "file_extension": ".py",
   "mimetype": "text/x-python",
   "name": "python",
   "nbconvert_exporter": "python",
   "pygments_lexer": "ipython3",
   "version": "3.7.0"
  }
 },
 "nbformat": 4,
 "nbformat_minor": 2
}
