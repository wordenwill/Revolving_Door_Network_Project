{
 "cells": [
  {
   "cell_type": "code",
   "execution_count": 47,
   "metadata": {},
   "outputs": [],
   "source": [
    "import xml.etree.cElementTree as ET"
   ]
  },
  {
   "cell_type": "code",
   "execution_count": 117,
   "metadata": {},
   "outputs": [],
   "source": [
    "def parseXML(xml_file):\n",
    "    \"\"\"\n",
    "    Parse XML with ElementTree\n",
    "    \"\"\"\n",
    "    tree = ET.ElementTree(file=xml_file)\n",
    "    print (tree.getroot())\n",
    "    root = tree.getroot()\n",
    "    print (root.tag, root.attrib, root.text)\n",
    " \n",
    "    for child in root:\n",
    "        print (child.tag, child.attrib)\n",
    "        if child.tag == \"imported\":\n",
    "            for step_child in child:\n",
    "                print (step_child.text)"
   ]
  },
  {
   "cell_type": "code",
   "execution_count": 279,
   "metadata": {},
   "outputs": [],
   "source": [
    "d = (\"a\",\"b\",\"c\",\"d\",\"e\",\"f\",\"g\",\"h\",\"i\",\"j\",\"k\",\"l\",\"m\",\"n\",\"o\",\"p\",\"q\",\"r\",\"s\",\"t\",\"u\",\"v\",\"w\",\"x\",\"y\",\"z\")"
   ]
  },
  {
   "cell_type": "code",
   "execution_count": 282,
   "metadata": {},
   "outputs": [],
   "source": [
    "\n",
    "def parseXML_2(xml_file):\n",
    "    \"\"\"\n",
    "    Parse XML with ElementTree\n",
    "    \"\"\"\n",
    "    last_name_list = []\n",
    "    tree = ET.ElementTree(file=xml_file)\n",
    "\n",
    "    root = tree.getroot()\n",
    "\n",
    "    for e in root.iter('lobbyistLastName'):\n",
    "        last_name = e.text\n",
    "        if any(x in last_name for x in d):\n",
    "            last_name_list.append(last_name)\n",
    "\n",
    "        #first_name = ET.tostringlist(e,encoding=\"utf-8\", method=\"text\")\n",
    "        #first_name = str(first_name[0]).strip()\n",
    "        #first_name = first_name.replace(\"\\n\", \" \")\n",
    "        #return first_name\n",
    "        \n",
    "    return last_name_list"
   ]
  },
  {
   "cell_type": "code",
   "execution_count": 284,
   "metadata": {
    "scrolled": true
   },
   "outputs": [
    {
     "name": "stdout",
     "output_type": "stream",
     "text": [
      "['Esposito', 'Anderson', 'Carney', 'Tobenkin', 'Stroud', 'Odendahl']\n"
     ]
    }
   ],
   "source": [
    "print(parseXML_2('01001930'))"
   ]
  },
  {
   "cell_type": "code",
   "execution_count": 236,
   "metadata": {
    "scrolled": true
   },
   "outputs": [
    {
     "name": "stdout",
     "output_type": "stream",
     "text": [
      "<Element 'LOBBYINGDISCLOSURE1' at 0x000000000566AE08>\n",
      "LOBBYINGDISCLOSURE1 {} \n",
      "  \n",
      "imported {}\n",
      "pages {}\n",
      "regType {}\n",
      "organizationName {}\n",
      "prefix {}\n",
      "firstName {}\n",
      "lastName {}\n",
      "address1 {}\n",
      "address2 {}\n",
      "city {}\n",
      "state {}\n",
      "zip {}\n",
      "zipext {}\n",
      "country {}\n",
      "principal_city {}\n",
      "principal_state {}\n",
      "principal_zip {}\n",
      "principal_zipext {}\n",
      "principal_country {}\n",
      "contactIntlPhone {}\n",
      "registrantGeneralDescription {}\n",
      "selfSelect {}\n",
      "clientName {}\n",
      "clientAddress {}\n",
      "clientCity {}\n",
      "clientState {}\n",
      "clientZip {}\n",
      "clientZipExt {}\n",
      "clientCountry {}\n",
      "prinClientCity {}\n",
      "prinClientState {}\n",
      "prinClientZip {}\n",
      "prinClientZipExt {}\n",
      "prinClientCountry {}\n",
      "clientGeneralDescription {}\n",
      "senateID {}\n",
      "houseID {}\n",
      "lobbyists {}\n",
      "alis {}\n",
      "specific_issues {}\n",
      "affiliatedUrl {}\n",
      "affiliatedOrgs {}\n",
      "foreignEntities {}\n",
      "reportYear {}\n",
      "reportType {}\n",
      "effectiveDate {}\n",
      "printedName {}\n",
      "signedDate {}\n"
     ]
    }
   ],
   "source": [
    "if __name__ == \"__main__\":\n",
    "    parseXML(\"C:/Users/uswjf0t/Desktop/01001926 (1).xml\")"
   ]
  },
  {
   "cell_type": "code",
   "execution_count": null,
   "metadata": {},
   "outputs": [],
   "source": []
  }
 ],
 "metadata": {
  "kernelspec": {
   "display_name": "Python 3",
   "language": "python",
   "name": "python3"
  },
  "language_info": {
   "codemirror_mode": {
    "name": "ipython",
    "version": 3
   },
   "file_extension": ".py",
   "mimetype": "text/x-python",
   "name": "python",
   "nbconvert_exporter": "python",
   "pygments_lexer": "ipython3",
   "version": "3.7.0"
  }
 },
 "nbformat": 4,
 "nbformat_minor": 2
}
