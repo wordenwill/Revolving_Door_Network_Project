{
 "cells": [
  {
   "cell_type": "code",
   "execution_count": 22,
   "metadata": {},
   "outputs": [],
   "source": [
    "import os\n",
    "import csv\n",
    "import xml.etree.ElementTree as ET"
   ]
  },
  {
   "cell_type": "code",
   "execution_count": 23,
   "metadata": {},
   "outputs": [],
   "source": [
    "# set up function to get xml files you want to use\n",
    "def get_filepaths(directory):\n",
    "\t# got this function from here http://stackoverflow.com/questions/3207219/how-to-list-all-files-of-a-directory\n",
    " #    This function will generate the file names in a directory \n",
    " #    tree by walking the tree either top-down or bottom-up. For each \n",
    " #    directory in the tree rooted at directory top (including top itself), \n",
    " #    it yields a 3-tuple (dirpath, dirnames, filenames).\n",
    "\txml_paths = []  # List which will store all of the full filepaths.\n",
    "\n",
    "\t# Walk the tree.\n",
    "\tfor root, directories, files in os.walk(directory):\n",
    "\t\tfor filename in files:\n",
    "\t\t\t# Join the two strings in order to form the full filepath.\n",
    "\t\t\tfilepath = os.path.join(root, filename)\n",
    "\t\t\tif \".xml\" in filepath:\n",
    "\t\t\t\txml_paths.append(filepath)  # Add it to the list.\n",
    "\n",
    "\treturn xml_paths  # Self-explanatory."
   ]
  },
  {
   "cell_type": "code",
   "execution_count": 24,
   "metadata": {},
   "outputs": [],
   "source": [
    "# creates list of files to use\n",
    "xml_paths = get_filepaths('C:/Users/willi/OneDrive/Documents/GitHub/Revolving_Door_Network_Project/2019_XML_Files')"
   ]
  },
  {
   "cell_type": "code",
   "execution_count": 25,
   "metadata": {},
   "outputs": [],
   "source": [
    "# sets up container for contents of each xml\n",
    "list_of_xml_reads = []"
   ]
  },
  {
   "cell_type": "code",
   "execution_count": 26,
   "metadata": {},
   "outputs": [],
   "source": [
    "# sets up function to remove last line of string\n",
    "# from here \n",
    "\t# http://stackoverflow.com/questions/18682965/python-remove-last-line-from-string/18683105#18683105\n",
    "def remove_last_line_from_string(s):\n",
    "    return s[:s.rfind('\\n')]"
   ]
  },
  {
   "cell_type": "code",
   "execution_count": 27,
   "metadata": {},
   "outputs": [],
   "source": [
    "# trims header and footer of xml and inserts into container\n",
    "for xml_path in xml_paths:\n",
    "\twith open(xml_path, \"r\", encoding=\"UTF-8\") as xml:\n",
    "\t\txml_read = xml.read()\n",
    "\t\txml_clean_read = xml_read.split(\"\\n\",4)[4];\n",
    "\t\txml_clean_read = remove_last_line_from_string(xml_clean_read)\n",
    "\t\tlist_of_xml_reads.append(xml_clean_read)"
   ]
  },
  {
   "cell_type": "code",
   "execution_count": 28,
   "metadata": {},
   "outputs": [],
   "source": [
    "# adds header and footer to container of xml contents that wraps them all\n",
    "list_of_xml_reads.insert(0, \"<?xml version='1.0' encoding='UTF-16'?>\\n<PublicFilings>\")\n",
    "list_of_xml_reads.append(\"</PublicFilings>\")"
   ]
  },
  {
   "cell_type": "code",
   "execution_count": 29,
   "metadata": {},
   "outputs": [],
   "source": [
    "# joins the list of xml contents into one string that can be parsed as xml\n",
    "large_xml_contents = \"\\n\".join(list_of_xml_reads)"
   ]
  },
  {
   "cell_type": "code",
   "execution_count": 30,
   "metadata": {},
   "outputs": [],
   "source": [
    "#parse xml\n",
    "parser = ET.XMLParser(encoding=\"UTF-8\")\n",
    "root = ET.fromstring(large_xml_contents, parser=parser)\n",
    "\n",
    "# create variable for all individual fillings\n",
    "all_filings = root.findall(\"./Filing\")"
   ]
  },
  {
   "cell_type": "code",
   "execution_count": 31,
   "metadata": {},
   "outputs": [],
   "source": [
    "# set up data that should go in csv\n",
    "filing_dicts = []\n",
    "longest_issues = [0,0]\n",
    "\n",
    "# from each filing in filtered root, gets data from tree that we want to place in csv\n",
    "\t# note how different variables require parsing data tree in different ways\n",
    "for ind1, filing in enumerate(root.findall(\"./Filing\")):\n",
    "\td = {}\n",
    "\td[\"name\"] = filing.attrib[\"lobbyistFirstName\"]\n",
    "\tfiling_dicts.append(d)"
   ]
  },
  {
   "cell_type": "code",
   "execution_count": 32,
   "metadata": {},
   "outputs": [
    {
     "data": {
      "text/plain": [
       "[]"
      ]
     },
     "execution_count": 32,
     "metadata": {},
     "output_type": "execute_result"
    }
   ],
   "source": [
    "filing_dicts"
   ]
  },
  {
   "cell_type": "code",
   "execution_count": 33,
   "metadata": {},
   "outputs": [
    {
     "ename": "IndexError",
     "evalue": "list index out of range",
     "output_type": "error",
     "traceback": [
      "\u001b[1;31m---------------------------------------------------------------------------\u001b[0m",
      "\u001b[1;31mIndexError\u001b[0m                                Traceback (most recent call last)",
      "\u001b[1;32m<ipython-input-33-6aaf0897109f>\u001b[0m in \u001b[0;36m<module>\u001b[1;34m()\u001b[0m\n\u001b[0;32m      5\u001b[0m \u001b[1;31m#writes csv file\u001b[0m\u001b[1;33m\u001b[0m\u001b[1;33m\u001b[0m\u001b[0m\n\u001b[0;32m      6\u001b[0m \u001b[1;32mwith\u001b[0m \u001b[0mopen\u001b[0m\u001b[1;33m(\u001b[0m\u001b[0mout_file_name\u001b[0m\u001b[1;33m,\u001b[0m \u001b[1;34m\"w\"\u001b[0m\u001b[1;33m)\u001b[0m \u001b[1;32mas\u001b[0m \u001b[0mcsvfile\u001b[0m\u001b[1;33m:\u001b[0m\u001b[1;33m\u001b[0m\u001b[0m\n\u001b[1;32m----> 7\u001b[1;33m         \u001b[0mfieldnames\u001b[0m \u001b[1;33m=\u001b[0m \u001b[0mfiling_dicts\u001b[0m\u001b[1;33m[\u001b[0m\u001b[0mlongest_issues\u001b[0m\u001b[1;33m[\u001b[0m\u001b[1;36m1\u001b[0m\u001b[1;33m]\u001b[0m\u001b[1;33m]\u001b[0m\u001b[1;33m.\u001b[0m\u001b[0mkeys\u001b[0m\u001b[1;33m(\u001b[0m\u001b[1;33m)\u001b[0m\u001b[1;33m\u001b[0m\u001b[0m\n\u001b[0m\u001b[0;32m      8\u001b[0m         \u001b[0mwriter\u001b[0m \u001b[1;33m=\u001b[0m \u001b[0mcsv\u001b[0m\u001b[1;33m.\u001b[0m\u001b[0mDictWriter\u001b[0m\u001b[1;33m(\u001b[0m\u001b[0mcsvfile\u001b[0m\u001b[1;33m,\u001b[0m \u001b[0mfieldnames\u001b[0m \u001b[1;33m=\u001b[0m \u001b[0mfieldnames\u001b[0m\u001b[1;33m)\u001b[0m\u001b[1;33m\u001b[0m\u001b[0m\n\u001b[0;32m      9\u001b[0m         \u001b[0mwriter\u001b[0m\u001b[1;33m.\u001b[0m\u001b[0mwriteheader\u001b[0m\u001b[1;33m(\u001b[0m\u001b[1;33m)\u001b[0m\u001b[1;33m\u001b[0m\u001b[0m\n",
      "\u001b[1;31mIndexError\u001b[0m: list index out of range"
     ]
    }
   ],
   "source": [
    "# names csv file to write to\n",
    "out_file_name = \"2017_Q1_BANKING_AND_FINANCE.csv\"\n",
    "\n",
    "\n",
    "#writes csv file \n",
    "with open(out_file_name, \"w\") as csvfile:\t\n",
    "\tfieldnames = filing_dicts[longest_issues[1]].keys()\n",
    "\twriter = csv.DictWriter(csvfile, fieldnames = fieldnames)\n",
    "\twriter.writeheader()\n",
    "\tfor filing in filing_dicts:\n",
    "\t\twriter.writerow(filing)\n"
   ]
  },
  {
   "cell_type": "code",
   "execution_count": null,
   "metadata": {},
   "outputs": [],
   "source": []
  }
 ],
 "metadata": {
  "kernelspec": {
   "display_name": "Python 3",
   "language": "python",
   "name": "python3"
  },
  "language_info": {
   "codemirror_mode": {
    "name": "ipython",
    "version": 3
   },
   "file_extension": ".py",
   "mimetype": "text/x-python",
   "name": "python",
   "nbconvert_exporter": "python",
   "pygments_lexer": "ipython3",
   "version": "3.7.0"
  }
 },
 "nbformat": 4,
 "nbformat_minor": 2
}
